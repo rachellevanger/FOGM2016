{
 "cells": [
  {
   "cell_type": "markdown",
   "metadata": {},
   "source": [
    "# Gibbs Sampler for mixture of Gaussians"
   ]
  },
  {
   "cell_type": "markdown",
   "metadata": {},
   "source": [
    "We implement a Gibbs sampler for detecting the centers of a specified number of clusters based on a Gaussian mixture model. Work done by Rachel Levanger for Fall 2016 Foundation of Graphical Models at Columbia University, HW #2."
   ]
  },
  {
   "cell_type": "code",
   "execution_count": 36,
   "metadata": {
    "collapsed": false
   },
   "outputs": [],
   "source": [
    "import math\n",
    "import numpy as np\n",
    "from scipy.stats import multivariate_normal\n",
    "\n",
    "import matplotlib\n",
    "import matplotlib.pyplot as plt\n",
    "\n",
    "%matplotlib inline"
   ]
  },
  {
   "cell_type": "markdown",
   "metadata": {},
   "source": [
    "## Some functions we'll use later"
   ]
  },
  {
   "cell_type": "code",
   "execution_count": 37,
   "metadata": {
    "collapsed": true
   },
   "outputs": [],
   "source": [
    "# Randomly choose num_clusters points according to N((0,0),variance) distribution in R^2\n",
    "def get_cluster_means(num_clusters, variance):\n",
    "    x, y = np.random.multivariate_normal([0,0], variance*np.identity(2) , num_clusters).T\n",
    "    return x, y"
   ]
  },
  {
   "cell_type": "markdown",
   "metadata": {},
   "source": [
    "## Generate the sample dataset"
   ]
  },
  {
   "cell_type": "markdown",
   "metadata": {},
   "source": [
    "We specify K clusters and randomly select their means from a Gaussian distribution centered at zero with high variance (to spread them out). We then randomly choose a membership according to a uniform distribution for each datapoint, then generate that datpoint's position according to a multivariate normal distribution centered at the selected mean with some pre-specified variance common to all clusters"
   ]
  },
  {
   "cell_type": "markdown",
   "metadata": {},
   "source": [
    "### Generate the means of the Gaussian mixture"
   ]
  },
  {
   "cell_type": "code",
   "execution_count": 38,
   "metadata": {
    "collapsed": false
   },
   "outputs": [],
   "source": [
    "# Set the number of clusters\n",
    "K = 3\n",
    "\n",
    "# Set the variance of the distribution of means\n",
    "p_lambda = 50.\n",
    "\n",
    "mu_x, mu_y = get_cluster_means(K, math.pow(p_lambda,2))"
   ]
  },
  {
   "cell_type": "markdown",
   "metadata": {},
   "source": [
    "### Generate the sample data according to the generated means of the Gaussian mixture"
   ]
  },
  {
   "cell_type": "code",
   "execution_count": 39,
   "metadata": {
    "collapsed": false
   },
   "outputs": [],
   "source": [
    "# Set the number of datapoints in the sample\n",
    "N = 60\n",
    "\n",
    "# Set the variance of each of the clusters\n",
    "sigma = 10.\n",
    "\n",
    "# Initialize the dataset\n",
    "x=np.zeros(N)\n",
    "y=np.zeros(N)\n",
    "\n",
    "# Loop through each datapoint and assign it to a cluster, then generate its position\n",
    "for n in range(0,N):\n",
    "    k = np.random.choice(K)\n",
    "    x[n], y[n] = np.random.multivariate_normal([mu_x[k],mu_y[k]], math.pow(sigma,2)*np.identity(2) , 1).T"
   ]
  },
  {
   "cell_type": "markdown",
   "metadata": {},
   "source": [
    "### Plot the sample data and the means"
   ]
  },
  {
   "cell_type": "code",
   "execution_count": 40,
   "metadata": {
    "collapsed": false
   },
   "outputs": [
    {
     "data": {
      "text/plain": [
       "(-40.0, 140.0, -100.0, 20.0)"
      ]
     },
     "execution_count": 40,
     "metadata": {},
     "output_type": "execute_result"
    },
    {
     "data": {
      "image/png": "[encoded data removed]",
      "text/plain": [
       "<matplotlib.figure.Figure at 0x106c11610>"
      ]
     },
     "metadata": {},
     "output_type": "display_data"
    }
   ],
   "source": [
    "# Plot the means\n",
    "plt.plot(x, y, 'x', markerfacecolor='blue')\n",
    "plt.plot(mu_x, mu_y, 'x', marker='o', markerfacecolor='red')\n",
    "plt.axis('equal')"
   ]
  },
  {
   "cell_type": "markdown",
   "metadata": {},
   "source": [
    "## Implement the Gibbs sampler"
   ]
  },
  {
   "cell_type": "markdown",
   "metadata": {},
   "source": [
    "### Initialize the sampler"
   ]
  },
  {
   "cell_type": "code",
   "execution_count": 41,
   "metadata": {
    "collapsed": true
   },
   "outputs": [],
   "source": [
    "# Initialize the mixture mean locations\n",
    "gs_mu_x, gs_mu_y = get_cluster_means(K, 10)\n",
    "\n",
    "\n",
    "# Initialize the mixture assignments\n",
    "gs_z = np.random.choice(K,N)"
   ]
  },
  {
   "cell_type": "markdown",
   "metadata": {},
   "source": [
    "### Iterate the sampler"
   ]
  },
  {
   "cell_type": "code",
   "execution_count": 42,
   "metadata": {
    "collapsed": false
   },
   "outputs": [],
   "source": [
    "# Set the number of iterations\n",
    "iterations = 20\n",
    "\n",
    "# Probability convergence table\n",
    "p_iter = np.zeros(iterations)\n",
    "\n",
    "# Iterate the Gibbs sampler\n",
    "for t in range(0,iterations):\n",
    "\n",
    "    # Update the z_i\n",
    "    for i in range(0,N):\n",
    "        \n",
    "        # Initialize the probability distribution variable to use for Gibbs sampling\n",
    "        p = np.zeros(K)\n",
    "        \n",
    "        # For each possible value k of z_i, get the probability that point x_i is in cluster k\n",
    "        for k in range(0,K):\n",
    "            p[k] = multivariate_normal.pdf([x[i],y[i]],mean=[gs_mu_x[k], gs_mu_y[k]], cov=math.pow(sigma,2)*np.identity(2))\n",
    "        p = p*(1./K)\n",
    "        p = p/sum(p) # normalize\n",
    "        \n",
    "        # Update z_i to a sample from the categorical distribution just discovered\n",
    "        gs_z[i] = np.random.multinomial(1,p).nonzero()[0][0]\n",
    "\n",
    "    # Update the mu_k\n",
    "    for k in range(0,K):\n",
    "        n_k = np.where(gs_z == k)[0].shape[0] # Number of data points in cluster k\n",
    "        s_k = np.asarray([sum(x[np.where(gs_z == k)]), sum(y[np.where(gs_z == k)])]) # Sum of the points in cluster k \n",
    "        mu_hat = (n_k/sigma)/((n_k/sigma)+(1./p_lambda))*(s_k/n_k)\n",
    "        lambda_hat = 1./(n_k/sigma + 1/p_lambda)\n",
    "        gs_mu_x[k], gs_mu_y[k] = np.random.multivariate_normal(mu_hat, math.pow(lambda_hat,2)*np.identity(2), 1).T\n",
    "    \n",
    "    # Compute joint probability and update the convergence table\n",
    "    for k in range(0,K):\n",
    "        # Candidate means conditional on proirs\n",
    "        p_iter[t] = p_iter[t] + math.log(multivariate_normal.pdf([gs_mu_x[k], gs_mu_y[k]],mean=[0,0],cov=math.pow(p_lambda,2)*np.identity(2)))\n",
    "    for i in range(0,N):\n",
    "        # Candidate assignments conditional on proirs\n",
    "        p_iter[t] = p_iter[t] + math.log(1./K)\n",
    "        # Likelihood terms\n",
    "        p_iter[t] = p_iter[t] - (1./(2.*math.pow(sigma,2)))*math.pow(np.linalg.norm(np.asarray([x[i],y[i]])-np.asarray([gs_mu_x[gs_z[i]], gs_mu_y[gs_z[i]]])),2)\n",
    "    "
   ]
  },
  {
   "cell_type": "markdown",
   "metadata": {},
   "source": [
    "### Plot the results"
   ]
  },
  {
   "cell_type": "code",
   "execution_count": 43,
   "metadata": {
    "collapsed": false
   },
   "outputs": [
    {
     "data": {
      "image/png": "[encoded data removed]",
      "text/plain": [
       "<matplotlib.figure.Figure at 0x107223d10>"
      ]
     },
     "metadata": {},
     "output_type": "display_data"
    }
   ],
   "source": [
    "color=['red', 'blue', 'green', 'yellow', 'cyan', 'magenta']\n",
    "for k in range(0,K):\n",
    "    plt.plot(x[np.where(gs_z == k)], y[np.where(gs_z == k)], 'x', color=color[k])\n",
    "    plt.plot(gs_mu_x[k], gs_mu_y[k], 'x', marker='o', markerfacecolor=color[k])\n",
    "    plt.axis('equal')"
   ]
  },
  {
   "cell_type": "code",
   "execution_count": 44,
   "metadata": {
    "collapsed": false
   },
   "outputs": [
    {
     "data": {
      "text/plain": [
       "[<matplotlib.lines.Line2D at 0x1075c43d0>]"
      ]
     },
     "execution_count": 44,
     "metadata": {},
     "output_type": "execute_result"
    },
    {
     "data": {
      "image/png": "[encoded data removed]",
      "text/plain": [
       "<matplotlib.figure.Figure at 0x106bd7ed0>"
      ]
     },
     "metadata": {},
     "output_type": "display_data"
    }
   ],
   "source": [
    "plt.plot(range(0,iterations), p_iter)"
   ]
  },
  {
   "cell_type": "code",
   "execution_count": null,
   "metadata": {
    "collapsed": true
   },
   "outputs": [],
   "source": []
  },
  {
   "cell_type": "code",
   "execution_count": null,
   "metadata": {
    "collapsed": true
   },
   "outputs": [],
   "source": []
  }
 ],
 "metadata": {
  "kernelspec": {
   "display_name": "Python 2",
   "language": "python",
   "name": "python2"
  },
  "language_info": {
   "codemirror_mode": {
    "name": "ipython",
    "version": 2
   },
   "file_extension": ".py",
   "mimetype": "text/x-python",
   "name": "python",
   "nbconvert_exporter": "python",
   "pygments_lexer": "ipython2",
   "version": "2.7.10"
  }
 },
 "nbformat": 4,
 "nbformat_minor": 0
}
