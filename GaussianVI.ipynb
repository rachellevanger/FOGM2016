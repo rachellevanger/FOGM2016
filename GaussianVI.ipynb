{
 "cells": [
  {
   "cell_type": "markdown",
   "metadata": {},
   "source": [
    "# Mean-field Variational Inference for a Mixture of Gaussians"
   ]
  },
  {
   "cell_type": "markdown",
   "metadata": {},
   "source": [
    "We implement mean-field variational inference for detecting the centers of a specified number of clusters based on a Gaussian mixture model. Work done by Rachel Levanger for Fall 2016 Foundation of Graphical Models at Columbia University, HW #3."
   ]
  },
  {
   "cell_type": "code",
   "execution_count": 170,
   "metadata": {
    "collapsed": true
   },
   "outputs": [],
   "source": [
    "import math\n",
    "import numpy as np\n",
    "from scipy.stats import multivariate_normal\n",
    "\n",
    "import matplotlib\n",
    "import matplotlib.pyplot as plt\n",
    "\n",
    "%matplotlib inline"
   ]
  },
  {
   "cell_type": "markdown",
   "metadata": {},
   "source": [
    "## Some functions we'll use later"
   ]
  },
  {
   "cell_type": "code",
   "execution_count": 171,
   "metadata": {
    "collapsed": true
   },
   "outputs": [],
   "source": [
    "# Randomly choose num_clusters points according to N(0,variance*I) distribution in R^dims\n",
    "def get_cluster_means(num_clusters, variance, dims):\n",
    "    multi_v_sample = np.random.multivariate_normal(np.zeros(dims), variance*np.identity(dims) , num_clusters).T\n",
    "    return multi_v_sample"
   ]
  },
  {
   "cell_type": "markdown",
   "metadata": {},
   "source": [
    "## Generate the sample dataset"
   ]
  },
  {
   "cell_type": "markdown",
   "metadata": {},
   "source": [
    "We specify K clusters and randomly select their means from a Gaussian distribution centered at zero with high variance (to spread them out). We then randomly choose a membership according to a uniform distribution for each datapoint, then generate that datpoint's position according to a multivariate normal distribution centered at the selected mean with some pre-specified variance common to all clusters."
   ]
  },
  {
   "cell_type": "code",
   "execution_count": 172,
   "metadata": {
    "collapsed": false
   },
   "outputs": [],
   "source": [
    "# Dimension of ambient space\n",
    "dim = 2\n",
    "\n",
    "# Set the number of clusters\n",
    "K = 5\n",
    "\n",
    "# Set the variance of the distribution of means\n",
    "p_lambda = 8.\n",
    "\n",
    "mu_actual = get_cluster_means(K, math.pow(p_lambda,2), dim)"
   ]
  },
  {
   "cell_type": "markdown",
   "metadata": {},
   "source": [
    "### Generate the sample data according to the generated means of the Gaussian mixture"
   ]
  },
  {
   "cell_type": "code",
   "execution_count": 173,
   "metadata": {
    "collapsed": false
   },
   "outputs": [],
   "source": [
    "# Set the number of datapoints in the sample\n",
    "N = 500\n",
    "\n",
    "# Set the variance of each of the clusters\n",
    "sigma = 1.3\n",
    "\n",
    "# Initialize the dataset\n",
    "X=np.zeros((N,dim))\n",
    "\n",
    "# Loop through each datapoint and assign it to a cluster, then generate its position\n",
    "for n in range(N):\n",
    "    k = np.random.choice(K)\n",
    "    X[n,:] = np.random.multivariate_normal(mu_actual[:,k], math.pow(sigma,2)*np.identity(dim), 1)"
   ]
  },
  {
   "cell_type": "markdown",
   "metadata": {},
   "source": [
    "### Plot the sample data and the means"
   ]
  },
  {
   "cell_type": "code",
   "execution_count": 174,
   "metadata": {
    "collapsed": false
   },
   "outputs": [
    {
     "data": {
      "text/plain": [
       "(-15.0, 15.0, -15.0, 15.0)"
      ]
     },
     "execution_count": 174,
     "metadata": {},
     "output_type": "execute_result"
    },
    {
     "data": {
      "image/png": "[encoded data removed]",
      "text/plain": [
       "<matplotlib.figure.Figure at 0x107975b50>"
      ]
     },
     "metadata": {},
     "output_type": "display_data"
    }
   ],
   "source": [
    "# Plot the means\n",
    "plt.plot(X[:,0], X[:,1], 'x', markerfacecolor='blue')\n",
    "plt.plot(mu_actual[0,:], mu_actual[1,:], 'x', marker='o', markerfacecolor='red')\n",
    "plt.axis('equal')"
   ]
  },
  {
   "cell_type": "markdown",
   "metadata": {},
   "source": [
    "## Implement mean-field variational inference"
   ]
  },
  {
   "cell_type": "markdown",
   "metadata": {},
   "source": [
    "### Initialize the algorithm"
   ]
  },
  {
   "cell_type": "code",
   "execution_count": 175,
   "metadata": {
    "collapsed": false
   },
   "outputs": [],
   "source": [
    "# Set the minimum number of iterations\n",
    "iterations = 20\n",
    "\n",
    "# Set the prior parameters\n",
    "p_sigma = 2. # Variance of cluster of means\n",
    "\n",
    "# Initialize the variational parameters\n",
    "vi_m = np.zeros((iterations, K, dim)) # Cluster means, initialized to random points.\n",
    "vi_m[0,:,:] = get_cluster_means(K, math.pow(p_sigma,2), dim).T\n",
    "\n",
    "vi_s_2 = np.zeros((iterations, K)) # Cluster variances, first initialized to one.\n",
    "vi_s_2[0,:] = np.ones(K)\n",
    "\n",
    "vi_phi = np.zeros((iterations, N, K)) # Assignment distributions, first initialized to categorical uniform\n",
    "vi_phi[0,:,:] = np.ones((N,K))*(1./K)\n",
    "\n",
    "# ELBO table\n",
    "ELBO = np.zeros(iterations-1)"
   ]
  },
  {
   "cell_type": "markdown",
   "metadata": {},
   "source": [
    "### Iterate the CAVI algorithm to get variational estimator for posterior"
   ]
  },
  {
   "cell_type": "code",
   "execution_count": null,
   "metadata": {
    "collapsed": false
   },
   "outputs": [],
   "source": [
    "\n",
    "# Iterate the CAVI algorithm\n",
    "for t in range(1,iterations):\n",
    "    \n",
    "    # Update the vi_phi: posterior assignment distributions\n",
    "    for n in range(N):\n",
    "        \n",
    "        for k in range(K):\n",
    "            log_sum_exp_argument = [np.dot(X[n],vi_m[t-1,j,:]) - (dim*vi_s_2[t-1,j] + np.dot(vi_m[t-1,j,:],vi_m[t-1,j,:]))/2. for j in range(K)]\n",
    "            max_log_sum_exp = max(log_sum_exp_argument)\n",
    "            log_sum_exp_sum = sum([math.exp(x - max_log_sum_exp) for x in log_sum_exp_argument])\n",
    "            vi_phi_log = np.dot(X[n],vi_m[t-1,k,:]) - (dim*vi_s_2[t-1,k] + np.dot(vi_m[t-1,k],vi_m[t-1,k]))/2. - max_log_sum_exp - math.log(log_sum_exp_sum)\n",
    "            vi_phi[t,n,k] = math.exp(vi_phi_log)\n",
    "        \n",
    "    # Update the vi_m and vi_s_2: posterior means and variances \n",
    "    vi_m[t,:,:] = vi_m[t-1,:,:]\n",
    "    for k in range(K):\n",
    "        \n",
    "        sum_phi_x = np.zeros(dim)\n",
    "        for n in range(N):\n",
    "            sum_phi_x = sum_phi_x + vi_phi[t,n,k]*X[n]\n",
    "        vi_m[t,k] = (sum_phi_x)/(p_sigma**(-2) + sum(vi_phi[t,:,k]))\n",
    "        vi_s_2[t,k] = 1./(p_sigma**(-2) + sum(vi_phi[t,:,k]))\n",
    "    \n",
    "    # Update the ELBO\n",
    "    for k in range(K):\n",
    "        ELBO[t-1] = ELBO[t-1] + (-1./2.)*math.log(2*math.pi*(p_sigma**2)) - (np.dot(vi_m[t,k],vi_m[t,k]) + dim*vi_s_2[t,k])/(2.*p_sigma**2)\n",
    "        ELBO[t-1] = ELBO[t-1] + (1./2.)*math.log(2*math.pi*vi_s_2[t,k]) + (1./2.)\n",
    "    for n in range(N):\n",
    "        ELBO[t-1] = ELBO[t-1] + math.log(1./K)\n",
    "        ELBO[t-1] = ELBO[t-1] - sum([vi_phi[t,n,k]*math.log(vi_phi[t,n,k]) for k in range(K)])\n",
    "        ELBO[t-1] = ELBO[t-1] + sum([vi_phi[t,n,k]*((-1./2.)*math.log(2*math.pi) - np.dot(X[n],X[n])/2. + np.dot(X[n],vi_m[t,k]) - (dim*vi_s_2[t,k] + np.dot(vi_m[t,k],vi_m[t,k]))/2.) for k in range(K)])\n",
    "    "
   ]
  },
  {
   "cell_type": "markdown",
   "metadata": {},
   "source": [
    "## Plot the results!"
   ]
  },
  {
   "cell_type": "code",
   "execution_count": null,
   "metadata": {
    "collapsed": false
   },
   "outputs": [],
   "source": [
    "\n",
    "fig,ax = plt.subplots(1)\n",
    "ax.set_aspect('equal')\n",
    "\n",
    "color=['cyan', 'blue', 'magenta', 'green', 'red', 'yellow']\n",
    "marker=['o','x','+','v','^']\n",
    "# Plot the datapoints with color chosen according to variational distribution\n",
    "for n in range(N):\n",
    "    z_n = np.random.multinomial(1,vi_phi[iterations-1,n,:]).nonzero()[0][0]\n",
    "    ax.plot(X[n,0], X[n,1], 'x', marker=marker[z_n], color=color[z_n])\n",
    "\n",
    "# Plot the mean history for the variational inference algorithm\n",
    "for k in range(K):\n",
    "    ax.plot(vi_m[:,k,0],vi_m[:,k,1], color=color[k])\n",
    "    circle = matplotlib.patches.Ellipse([vi_m[iterations-1,k,0], vi_m[iterations-1,k,1]], 2.*np.sqrt(vi_s_2[iterations-1,k]), 2.*np.sqrt(vi_s_2[iterations-1,k]), alpha=0.25, color=color[k])\n",
    "    ax.add_patch(circle)\n",
    "\n",
    "ax.axis('equal')\n"
   ]
  },
  {
   "cell_type": "code",
   "execution_count": null,
   "metadata": {
    "collapsed": false
   },
   "outputs": [],
   "source": [
    "plt.plot(ELBO[:])"
   ]
  },
  {
   "cell_type": "code",
   "execution_count": 169,
   "metadata": {
    "collapsed": false
   },
   "outputs": [
    {
     "data": {
      "text/plain": [
       "array([-11282.54883489,  -2427.90916082,  -2392.86956416,  -2278.803743  ,\n",
       "        -2127.92028726,  -2050.03637682,  -2027.25491166,  -2020.38516701,\n",
       "        -2018.0440875 ,  -2017.2206704 ,  -2016.9258212 ,  -2016.81789896,\n",
       "        -2016.77700589,  -2016.7606186 ,  -2016.75348189,  -2016.75002725,\n",
       "        -2016.74816085,  -2016.7470549 ,  -2016.74635578])"
      ]
     },
     "execution_count": 169,
     "metadata": {},
     "output_type": "execute_result"
    }
   ],
   "source": [
    "ELBO"
   ]
  },
  {
   "cell_type": "code",
   "execution_count": null,
   "metadata": {
    "collapsed": true
   },
   "outputs": [],
   "source": []
  }
 ],
 "metadata": {
  "anaconda-cloud": {},
  "kernelspec": {
   "display_name": "Python 2",
   "language": "python",
   "name": "python2"
  },
  "language_info": {
   "codemirror_mode": {
    "name": "ipython",
    "version": 2
   },
   "file_extension": ".py",
   "mimetype": "text/x-python",
   "name": "python",
   "nbconvert_exporter": "python",
   "pygments_lexer": "ipython2",
   "version": "2.7.12"
  }
 },
 "nbformat": 4,
 "nbformat_minor": 1
}
